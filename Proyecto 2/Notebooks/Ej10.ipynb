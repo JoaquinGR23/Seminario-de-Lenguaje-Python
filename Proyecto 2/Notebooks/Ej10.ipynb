{
 "cells": [
  {
   "cell_type": "code",
   "execution_count": 2,
   "metadata": {
    "id": "pQ4LNdm0OJc-"
   },
   "outputs": [],
   "source": [
    "import sys\n",
    "import os\n",
    "\n",
    "# Obtener la ruta absoluta del directorio raiz del proyecto\n",
    "sys.path.append(os.path.abspath( \"../src\"))\n",
    "\n",
    "from funciones import update_scores, print_ranking\n"
   ]
  },
  {
   "cell_type": "code",
   "execution_count": 3,
   "metadata": {
    "id": "SVszQVGlMiBq"
   },
   "outputs": [],
   "source": [
    "rounds = [\n",
    "    {\n",
    "        'Shadow': {'kills': 2, 'assists': 1, 'deaths': True},\n",
    "        'Blaze': {'kills': 1, 'assists': 0, 'deaths': False},\n",
    "        'Viper': {'kills': 1, 'assists': 2, 'deaths': True},\n",
    "        'Frost': {'kills': 0, 'assists': 1, 'deaths': False},\n",
    "        'Reaper': {'kills': 1, 'assists': 1, 'deaths': False}\n",
    "    },\n",
    "    {\n",
    "        'Shadow': {'kills': 0, 'assists': 2, 'deaths': False},\n",
    "        'Blaze': {'kills': 2, 'assists': 0, 'deaths': True},\n",
    "        'Viper': {'kills': 1, 'assists': 1, 'deaths': False},\n",
    "        'Frost': {'kills': 2, 'assists': 1, 'deaths': True},\n",
    "        'Reaper': {'kills': 0, 'assists': 1, 'deaths': False}\n",
    "    },\n",
    "    {\n",
    "        'Shadow': {'kills': 1, 'assists': 0, 'deaths': False},\n",
    "        'Blaze': {'kills': 2, 'assists': 2, 'deaths': True},\n",
    "        'Viper': {'kills': 1, 'assists': 1, 'deaths': True},\n",
    "        'Frost': {'kills': 0, 'assists': 1, 'deaths': False},\n",
    "        'Reaper': {'kills': 1, 'assists': 1, 'deaths': False}\n",
    "    },\n",
    "    {\n",
    "        'Shadow': {'kills': 2, 'assists': 1, 'deaths': False},\n",
    "        'Blaze': {'kills': 1, 'assists': 0, 'deaths': True},\n",
    "        'Viper': {'kills': 0, 'assists': 2, 'deaths': False},\n",
    "        'Frost': {'kills': 1, 'assists': 1, 'deaths': True},\n",
    "        'Reaper': {'kills': 1, 'assists': 1, 'deaths': False}\n",
    "    },\n",
    "    {\n",
    "        'Shadow': {'kills': 1, 'assists': 2, 'deaths': True},\n",
    "        'Blaze': {'kills': 0, 'assists': 1, 'deaths': False},\n",
    "        'Viper': {'kills': 2, 'assists': 0, 'deaths': True},\n",
    "        'Frost': {'kills': 1, 'assists': 1, 'deaths': False},\n",
    "        'Reaper': {'kills': 1, 'assists': 1, 'deaths': True}\n",
    "    }\n",
    "]"
   ]
  },
  {
   "cell_type": "code",
   "execution_count": 7,
   "metadata": {
    "colab": {
     "base_uri": "https://localhost:8080/"
    },
    "id": "mWhLcVubNI5K",
    "outputId": "a35876d1-e10e-4eca-96fe-afcbcec6f175"
   },
   "outputs": [
    {
     "name": "stdout",
     "output_type": "stream",
     "text": [
      "Ranking ronda 1:\n",
      "Jugador    Kills  Asistencias  Muertes  MVPs  Puntos\n",
      "--------------------------------------------------\n",
      "Shadow     14     13          5       5    50    \n",
      "Viper      11     14          7       2    40    \n",
      "Blaze      13     6           6       2    39    \n",
      "Reaper     9      11          2       0    36    \n",
      "Frost      8      11          4       2    31    \n",
      "-------------------------------------------------- \n",
      "\n",
      "Ranking ronda 2:\n",
      "Jugador    Kills  Asistencias  Muertes  MVPs  Puntos\n",
      "--------------------------------------------------\n",
      "Shadow     14     15          5       5    52    \n",
      "Blaze      15     6           7       2    44    \n",
      "Viper      12     15          7       2    44    \n",
      "Frost      10     12          5       3    37    \n",
      "Reaper     9      12          2       0    37    \n",
      "-------------------------------------------------- \n",
      "\n",
      "Ranking ronda 3:\n",
      "Jugador    Kills  Asistencias  Muertes  MVPs  Puntos\n",
      "--------------------------------------------------\n",
      "Shadow     15     15          5       5    55    \n",
      "Blaze      17     8           8       3    51    \n",
      "Viper      13     16          8       2    47    \n",
      "Reaper     10     13          2       0    41    \n",
      "Frost      10     13          5       3    38    \n",
      "-------------------------------------------------- \n",
      "\n",
      "Ranking ronda 4:\n",
      "Jugador    Kills  Asistencias  Muertes  MVPs  Puntos\n",
      "--------------------------------------------------\n",
      "Shadow     17     16          5       6    62    \n",
      "Blaze      18     8           9       3    53    \n",
      "Viper      13     18          8       2    49    \n",
      "Reaper     11     14          2       0    45    \n",
      "Frost      11     14          6       3    41    \n",
      "-------------------------------------------------- \n",
      "\n",
      "Ranking ronda 5:\n",
      "Jugador    Kills  Asistencias  Muertes  MVPs  Puntos\n",
      "--------------------------------------------------\n",
      "Shadow     18     18          6       6    66    \n",
      "Blaze      18     9           9       3    54    \n",
      "Viper      15     18          9       3    54    \n",
      "Reaper     12     15          3       0    48    \n",
      "Frost      12     15          6       3    45    \n",
      "-------------------------------------------------- \n",
      "\n"
     ]
    }
   ],
   "source": [
    "for i, round_data in enumerate(rounds, 1): \n",
    "    scores = update_scores(round_data) \n",
    "    print_ranking(scores, i) "
   ]
  },
  {
   "cell_type": "code",
   "execution_count": 8,
   "metadata": {
    "colab": {
     "base_uri": "https://localhost:8080/"
    },
    "id": "o0j-jtg5Og4i",
    "outputId": "bd791d06-5ab4-4963-d7f6-1d8fdc41d138"
   },
   "outputs": [
    {
     "name": "stdout",
     "output_type": "stream",
     "text": [
      "Ranking final:\n",
      "Ranking ronda Final:\n",
      "Jugador    Kills  Asistencias  Muertes  MVPs  Puntos\n",
      "--------------------------------------------------\n",
      "Shadow     18     18          6       6    66    \n",
      "Blaze      18     9           9       3    54    \n",
      "Viper      15     18          9       3    54    \n",
      "Reaper     12     15          3       0    48    \n",
      "Frost      12     15          6       3    45    \n",
      "-------------------------------------------------- \n",
      "\n"
     ]
    }
   ],
   "source": [
    "print(\"Ranking final:\")\n",
    "print_ranking(sorted(scores, key=lambda x: x[1]['points'], reverse=True), \"Final\")"
   ]
  },
  {
   "cell_type": "markdown",
   "metadata": {
    "id": "HOBEEMrNSneY"
   },
   "source": [
    "# Sección nueva"
   ]
  },
  {
   "cell_type": "code",
   "execution_count": null,
   "metadata": {},
   "outputs": [],
   "source": []
  }
 ],
 "metadata": {
  "colab": {
   "provenance": []
  },
  "kernelspec": {
   "display_name": ".venv",
   "language": "python",
   "name": "python3"
  },
  "language_info": {
   "codemirror_mode": {
    "name": "ipython",
    "version": 3
   },
   "file_extension": ".py",
   "mimetype": "text/x-python",
   "name": "python",
   "nbconvert_exporter": "python",
   "pygments_lexer": "ipython3",
   "version": "3.9.1"
  }
 },
 "nbformat": 4,
 "nbformat_minor": 4
}
